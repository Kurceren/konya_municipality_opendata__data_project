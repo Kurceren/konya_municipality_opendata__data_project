{
 "cells": [
  {
   "cell_type": "code",
   "execution_count": 120,
   "metadata": {},
   "outputs": [],
   "source": [
    "import pandas as pd"
   ]
  },
  {
   "cell_type": "code",
   "execution_count": 121,
   "metadata": {},
   "outputs": [],
   "source": [
    "df=pd.read_csv(\"elkart_binis_2019.csv\")"
   ]
  },
  {
   "cell_type": "code",
   "execution_count": 122,
   "metadata": {},
   "outputs": [
    {
     "name": "stdout",
     "output_type": "stream",
     "text": [
      "<class 'pandas.core.frame.DataFrame'>\n",
      "RangeIndex: 886722 entries, 0 to 886721\n",
      "Data columns (total 4 columns):\n",
      " #   Column        Non-Null Count   Dtype \n",
      "---  ------        --------------   ----- \n",
      " 0   tarih_saat    886722 non-null  object\n",
      " 1   hat_no        886722 non-null  int64 \n",
      " 2   alt_hat_no    886722 non-null  int64 \n",
      " 3   binis_sayisi  886722 non-null  int64 \n",
      "dtypes: int64(3), object(1)\n",
      "memory usage: 27.1+ MB\n"
     ]
    }
   ],
   "source": [
    "df.info()"
   ]
  },
  {
   "cell_type": "code",
   "execution_count": 123,
   "metadata": {},
   "outputs": [],
   "source": [
    "df[\"tarih_saat\"]=pd.to_datetime(df[\"tarih_saat\"])"
   ]
  },
  {
   "cell_type": "code",
   "execution_count": 124,
   "metadata": {},
   "outputs": [
    {
     "name": "stdout",
     "output_type": "stream",
     "text": [
      "<class 'pandas.core.frame.DataFrame'>\n",
      "RangeIndex: 886722 entries, 0 to 886721\n",
      "Data columns (total 4 columns):\n",
      " #   Column        Non-Null Count   Dtype         \n",
      "---  ------        --------------   -----         \n",
      " 0   tarih_saat    886722 non-null  datetime64[ns]\n",
      " 1   hat_no        886722 non-null  int64         \n",
      " 2   alt_hat_no    886722 non-null  int64         \n",
      " 3   binis_sayisi  886722 non-null  int64         \n",
      "dtypes: datetime64[ns](1), int64(3)\n",
      "memory usage: 27.1 MB\n"
     ]
    }
   ],
   "source": [
    "df.info()"
   ]
  },
  {
   "cell_type": "code",
   "execution_count": 125,
   "metadata": {},
   "outputs": [
    {
     "data": {
      "text/html": [
       "<div>\n",
       "<style scoped>\n",
       "    .dataframe tbody tr th:only-of-type {\n",
       "        vertical-align: middle;\n",
       "    }\n",
       "\n",
       "    .dataframe tbody tr th {\n",
       "        vertical-align: top;\n",
       "    }\n",
       "\n",
       "    .dataframe thead th {\n",
       "        text-align: right;\n",
       "    }\n",
       "</style>\n",
       "<table border=\"1\" class=\"dataframe\">\n",
       "  <thead>\n",
       "    <tr style=\"text-align: right;\">\n",
       "      <th></th>\n",
       "      <th>tarih_saat</th>\n",
       "      <th>hat_no</th>\n",
       "      <th>alt_hat_no</th>\n",
       "      <th>binis_sayisi</th>\n",
       "    </tr>\n",
       "  </thead>\n",
       "  <tbody>\n",
       "    <tr>\n",
       "      <th>0</th>\n",
       "      <td>2019-01-01 00:00:00</td>\n",
       "      <td>1</td>\n",
       "      <td>0</td>\n",
       "      <td>53</td>\n",
       "    </tr>\n",
       "    <tr>\n",
       "      <th>1</th>\n",
       "      <td>2019-01-01 06:00:00</td>\n",
       "      <td>1</td>\n",
       "      <td>0</td>\n",
       "      <td>9</td>\n",
       "    </tr>\n",
       "    <tr>\n",
       "      <th>2</th>\n",
       "      <td>2019-01-01 07:00:00</td>\n",
       "      <td>1</td>\n",
       "      <td>0</td>\n",
       "      <td>59</td>\n",
       "    </tr>\n",
       "    <tr>\n",
       "      <th>3</th>\n",
       "      <td>2019-01-01 08:00:00</td>\n",
       "      <td>1</td>\n",
       "      <td>0</td>\n",
       "      <td>49</td>\n",
       "    </tr>\n",
       "    <tr>\n",
       "      <th>4</th>\n",
       "      <td>2019-01-01 09:00:00</td>\n",
       "      <td>1</td>\n",
       "      <td>0</td>\n",
       "      <td>85</td>\n",
       "    </tr>\n",
       "    <tr>\n",
       "      <th>...</th>\n",
       "      <td>...</td>\n",
       "      <td>...</td>\n",
       "      <td>...</td>\n",
       "      <td>...</td>\n",
       "    </tr>\n",
       "    <tr>\n",
       "      <th>886717</th>\n",
       "      <td>2019-12-31 19:00:00</td>\n",
       "      <td>99</td>\n",
       "      <td>0</td>\n",
       "      <td>47</td>\n",
       "    </tr>\n",
       "    <tr>\n",
       "      <th>886718</th>\n",
       "      <td>2019-12-31 20:00:00</td>\n",
       "      <td>99</td>\n",
       "      <td>0</td>\n",
       "      <td>13</td>\n",
       "    </tr>\n",
       "    <tr>\n",
       "      <th>886719</th>\n",
       "      <td>2019-12-31 21:00:00</td>\n",
       "      <td>99</td>\n",
       "      <td>0</td>\n",
       "      <td>13</td>\n",
       "    </tr>\n",
       "    <tr>\n",
       "      <th>886720</th>\n",
       "      <td>2019-12-31 22:00:00</td>\n",
       "      <td>99</td>\n",
       "      <td>0</td>\n",
       "      <td>4</td>\n",
       "    </tr>\n",
       "    <tr>\n",
       "      <th>886721</th>\n",
       "      <td>2019-12-31 23:00:00</td>\n",
       "      <td>99</td>\n",
       "      <td>0</td>\n",
       "      <td>17</td>\n",
       "    </tr>\n",
       "  </tbody>\n",
       "</table>\n",
       "<p>886722 rows × 4 columns</p>\n",
       "</div>"
      ],
      "text/plain": [
       "                tarih_saat  hat_no  alt_hat_no  binis_sayisi\n",
       "0      2019-01-01 00:00:00       1           0            53\n",
       "1      2019-01-01 06:00:00       1           0             9\n",
       "2      2019-01-01 07:00:00       1           0            59\n",
       "3      2019-01-01 08:00:00       1           0            49\n",
       "4      2019-01-01 09:00:00       1           0            85\n",
       "...                    ...     ...         ...           ...\n",
       "886717 2019-12-31 19:00:00      99           0            47\n",
       "886718 2019-12-31 20:00:00      99           0            13\n",
       "886719 2019-12-31 21:00:00      99           0            13\n",
       "886720 2019-12-31 22:00:00      99           0             4\n",
       "886721 2019-12-31 23:00:00      99           0            17\n",
       "\n",
       "[886722 rows x 4 columns]"
      ]
     },
     "execution_count": 125,
     "metadata": {},
     "output_type": "execute_result"
    }
   ],
   "source": [
    "df"
   ]
  },
  {
   "cell_type": "code",
   "execution_count": 126,
   "metadata": {},
   "outputs": [],
   "source": [
    "import locale\n",
    "import datetime"
   ]
  },
  {
   "cell_type": "code",
   "execution_count": 127,
   "metadata": {},
   "outputs": [
    {
     "data": {
      "text/plain": [
       "'Turkish_Turkey.1254'"
      ]
     },
     "execution_count": 127,
     "metadata": {},
     "output_type": "execute_result"
    }
   ],
   "source": [
    "locale.setlocale(locale.LC_ALL, '')"
   ]
  },
  {
   "cell_type": "code",
   "execution_count": 128,
   "metadata": {},
   "outputs": [],
   "source": [
    "df[\"ay\"]=df[\"tarih_saat\"]"
   ]
  },
  {
   "cell_type": "code",
   "execution_count": 109,
   "metadata": {},
   "outputs": [],
   "source": [
    "ay_yil = pd.to_datetime(df[\"tarih_saat\"][0] , format='%Y-%m')"
   ]
  },
  {
   "cell_type": "code",
   "execution_count": 110,
   "metadata": {},
   "outputs": [
    {
     "data": {
      "text/plain": [
       "pandas._libs.tslibs.timestamps.Timestamp"
      ]
     },
     "execution_count": 110,
     "metadata": {},
     "output_type": "execute_result"
    }
   ],
   "source": [
    "type(ay_yil)"
   ]
  },
  {
   "cell_type": "code",
   "execution_count": 111,
   "metadata": {},
   "outputs": [
    {
     "data": {
      "text/plain": [
       "Timestamp('2019-01-01 00:00:00')"
      ]
     },
     "execution_count": 111,
     "metadata": {},
     "output_type": "execute_result"
    }
   ],
   "source": [
    "ay_yil"
   ]
  },
  {
   "cell_type": "code",
   "execution_count": 112,
   "metadata": {},
   "outputs": [],
   "source": [
    "ay_yil = pd.Period(df[\"tarih_saat\"][0], freq='M')\n"
   ]
  },
  {
   "cell_type": "code",
   "execution_count": 113,
   "metadata": {},
   "outputs": [
    {
     "data": {
      "text/plain": [
       "Period('2019-01', 'M')"
      ]
     },
     "execution_count": 113,
     "metadata": {},
     "output_type": "execute_result"
    }
   ],
   "source": [
    "ay_yil"
   ]
  },
  {
   "cell_type": "code",
   "execution_count": 114,
   "metadata": {},
   "outputs": [
    {
     "data": {
      "text/plain": [
       "pandas._libs.tslibs.period.Period"
      ]
     },
     "execution_count": 114,
     "metadata": {},
     "output_type": "execute_result"
    }
   ],
   "source": [
    "type(ay_yil)"
   ]
  },
  {
   "cell_type": "code",
   "execution_count": 93,
   "metadata": {},
   "outputs": [],
   "source": [
    "for x in df[\"tarih_saat\"].index:\n",
    "    df[\"ay\"][x]=pd.Period(df[\"tarih_saat\"][x], freq='M')"
   ]
  },
  {
   "cell_type": "code",
   "execution_count": 94,
   "metadata": {},
   "outputs": [
    {
     "data": {
      "text/html": [
       "<div>\n",
       "<style scoped>\n",
       "    .dataframe tbody tr th:only-of-type {\n",
       "        vertical-align: middle;\n",
       "    }\n",
       "\n",
       "    .dataframe tbody tr th {\n",
       "        vertical-align: top;\n",
       "    }\n",
       "\n",
       "    .dataframe thead th {\n",
       "        text-align: right;\n",
       "    }\n",
       "</style>\n",
       "<table border=\"1\" class=\"dataframe\">\n",
       "  <thead>\n",
       "    <tr style=\"text-align: right;\">\n",
       "      <th></th>\n",
       "      <th>tarih_saat</th>\n",
       "      <th>hat_no</th>\n",
       "      <th>alt_hat_no</th>\n",
       "      <th>binis_sayisi</th>\n",
       "      <th>ay</th>\n",
       "    </tr>\n",
       "  </thead>\n",
       "  <tbody>\n",
       "    <tr>\n",
       "      <th>0</th>\n",
       "      <td>2019-01-01 00:00:00</td>\n",
       "      <td>1</td>\n",
       "      <td>0</td>\n",
       "      <td>53</td>\n",
       "      <td>2019-01</td>\n",
       "    </tr>\n",
       "    <tr>\n",
       "      <th>1</th>\n",
       "      <td>2019-01-01 06:00:00</td>\n",
       "      <td>1</td>\n",
       "      <td>0</td>\n",
       "      <td>9</td>\n",
       "      <td>2019-01</td>\n",
       "    </tr>\n",
       "    <tr>\n",
       "      <th>2</th>\n",
       "      <td>2019-01-01 07:00:00</td>\n",
       "      <td>1</td>\n",
       "      <td>0</td>\n",
       "      <td>59</td>\n",
       "      <td>2019-01</td>\n",
       "    </tr>\n",
       "    <tr>\n",
       "      <th>3</th>\n",
       "      <td>2019-01-01 08:00:00</td>\n",
       "      <td>1</td>\n",
       "      <td>0</td>\n",
       "      <td>49</td>\n",
       "      <td>2019-01</td>\n",
       "    </tr>\n",
       "    <tr>\n",
       "      <th>4</th>\n",
       "      <td>2019-01-01 09:00:00</td>\n",
       "      <td>1</td>\n",
       "      <td>0</td>\n",
       "      <td>85</td>\n",
       "      <td>2019-01</td>\n",
       "    </tr>\n",
       "    <tr>\n",
       "      <th>...</th>\n",
       "      <td>...</td>\n",
       "      <td>...</td>\n",
       "      <td>...</td>\n",
       "      <td>...</td>\n",
       "      <td>...</td>\n",
       "    </tr>\n",
       "    <tr>\n",
       "      <th>886717</th>\n",
       "      <td>2019-12-31 19:00:00</td>\n",
       "      <td>99</td>\n",
       "      <td>0</td>\n",
       "      <td>47</td>\n",
       "      <td>2019-12</td>\n",
       "    </tr>\n",
       "    <tr>\n",
       "      <th>886718</th>\n",
       "      <td>2019-12-31 20:00:00</td>\n",
       "      <td>99</td>\n",
       "      <td>0</td>\n",
       "      <td>13</td>\n",
       "      <td>2019-12</td>\n",
       "    </tr>\n",
       "    <tr>\n",
       "      <th>886719</th>\n",
       "      <td>2019-12-31 21:00:00</td>\n",
       "      <td>99</td>\n",
       "      <td>0</td>\n",
       "      <td>13</td>\n",
       "      <td>2019-12</td>\n",
       "    </tr>\n",
       "    <tr>\n",
       "      <th>886720</th>\n",
       "      <td>2019-12-31 22:00:00</td>\n",
       "      <td>99</td>\n",
       "      <td>0</td>\n",
       "      <td>4</td>\n",
       "      <td>2019-12</td>\n",
       "    </tr>\n",
       "    <tr>\n",
       "      <th>886721</th>\n",
       "      <td>2019-12-31 23:00:00</td>\n",
       "      <td>99</td>\n",
       "      <td>0</td>\n",
       "      <td>17</td>\n",
       "      <td>2019-12</td>\n",
       "    </tr>\n",
       "  </tbody>\n",
       "</table>\n",
       "<p>886722 rows × 5 columns</p>\n",
       "</div>"
      ],
      "text/plain": [
       "                tarih_saat  hat_no  alt_hat_no  binis_sayisi       ay\n",
       "0      2019-01-01 00:00:00       1           0            53  2019-01\n",
       "1      2019-01-01 06:00:00       1           0             9  2019-01\n",
       "2      2019-01-01 07:00:00       1           0            59  2019-01\n",
       "3      2019-01-01 08:00:00       1           0            49  2019-01\n",
       "4      2019-01-01 09:00:00       1           0            85  2019-01\n",
       "...                    ...     ...         ...           ...      ...\n",
       "886717 2019-12-31 19:00:00      99           0            47  2019-12\n",
       "886718 2019-12-31 20:00:00      99           0            13  2019-12\n",
       "886719 2019-12-31 21:00:00      99           0            13  2019-12\n",
       "886720 2019-12-31 22:00:00      99           0             4  2019-12\n",
       "886721 2019-12-31 23:00:00      99           0            17  2019-12\n",
       "\n",
       "[886722 rows x 5 columns]"
      ]
     },
     "execution_count": 94,
     "metadata": {},
     "output_type": "execute_result"
    }
   ],
   "source": [
    "df"
   ]
  },
  {
   "cell_type": "code",
   "execution_count": 95,
   "metadata": {},
   "outputs": [
    {
     "name": "stdout",
     "output_type": "stream",
     "text": [
      "<class 'pandas.core.frame.DataFrame'>\n",
      "RangeIndex: 886722 entries, 0 to 886721\n",
      "Data columns (total 5 columns):\n",
      " #   Column        Non-Null Count   Dtype         \n",
      "---  ------        --------------   -----         \n",
      " 0   tarih_saat    886722 non-null  datetime64[ns]\n",
      " 1   hat_no        886722 non-null  int64         \n",
      " 2   alt_hat_no    886722 non-null  int64         \n",
      " 3   binis_sayisi  886722 non-null  int64         \n",
      " 4   ay            886722 non-null  object        \n",
      "dtypes: datetime64[ns](1), int64(3), object(1)\n",
      "memory usage: 33.8+ MB\n"
     ]
    }
   ],
   "source": [
    "df.info()"
   ]
  },
  {
   "cell_type": "code",
   "execution_count": 96,
   "metadata": {},
   "outputs": [
    {
     "data": {
      "text/plain": [
       "pandas._libs.tslibs.period.Period"
      ]
     },
     "execution_count": 96,
     "metadata": {},
     "output_type": "execute_result"
    }
   ],
   "source": [
    "type(df[\"ay\"][0])"
   ]
  },
  {
   "cell_type": "code",
   "execution_count": 129,
   "metadata": {},
   "outputs": [],
   "source": [
    "df[\"ay\"]=df[\"ay\"].astype(\"str\")"
   ]
  },
  {
   "cell_type": "code",
   "execution_count": 116,
   "metadata": {},
   "outputs": [
    {
     "ename": "AttributeError",
     "evalue": "'str' object has no attribute 'astype'",
     "output_type": "error",
     "traceback": [
      "\u001b[1;31m---------------------------------------------------------------------------\u001b[0m",
      "\u001b[1;31mAttributeError\u001b[0m                            Traceback (most recent call last)",
      "Cell \u001b[1;32mIn[116], line 2\u001b[0m\n\u001b[0;32m      1\u001b[0m \u001b[39mfor\u001b[39;00m x \u001b[39min\u001b[39;00m df[\u001b[39m\"\u001b[39m\u001b[39mtarih_saat\u001b[39m\u001b[39m\"\u001b[39m]\u001b[39m.\u001b[39mindex:\n\u001b[1;32m----> 2\u001b[0m     df[\u001b[39m\"\u001b[39m\u001b[39may\u001b[39m\u001b[39m\"\u001b[39m][x]\u001b[39m=\u001b[39mdf[\u001b[39m\"\u001b[39;49m\u001b[39may\u001b[39;49m\u001b[39m\"\u001b[39;49m][x]\u001b[39m.\u001b[39;49mastype(\u001b[39m\"\u001b[39m\u001b[39mstr\u001b[39m\u001b[39m\"\u001b[39m)\n",
      "\u001b[1;31mAttributeError\u001b[0m: 'str' object has no attribute 'astype'"
     ]
    }
   ],
   "source": [
    "for x in df[\"tarih_saat\"].index:\n",
    "    df[\"ay\"][x]=df[\"ay\"][x].astype(\"str\")"
   ]
  },
  {
   "cell_type": "code",
   "execution_count": 118,
   "metadata": {},
   "outputs": [
    {
     "ename": "AttributeError",
     "evalue": "'str' object has no attribute 'apply'",
     "output_type": "error",
     "traceback": [
      "\u001b[1;31m---------------------------------------------------------------------------\u001b[0m",
      "\u001b[1;31mAttributeError\u001b[0m                            Traceback (most recent call last)",
      "Cell \u001b[1;32mIn[118], line 2\u001b[0m\n\u001b[0;32m      1\u001b[0m \u001b[39mfor\u001b[39;00m x \u001b[39min\u001b[39;00m df[\u001b[39m\"\u001b[39m\u001b[39mtarih_saat\u001b[39m\u001b[39m\"\u001b[39m]\u001b[39m.\u001b[39mindex:\n\u001b[1;32m----> 2\u001b[0m     df[\u001b[39m\"\u001b[39m\u001b[39may\u001b[39m\u001b[39m\"\u001b[39m][x]\u001b[39m=\u001b[39mdf[\u001b[39m\"\u001b[39;49m\u001b[39may\u001b[39;49m\u001b[39m\"\u001b[39;49m][x]\u001b[39m.\u001b[39;49mapply(\u001b[39mlambda\u001b[39;00m x: pd\u001b[39m.\u001b[39mPeriod(x, freq\u001b[39m=\u001b[39m\u001b[39m'\u001b[39m\u001b[39mM\u001b[39m\u001b[39m'\u001b[39m))\n",
      "\u001b[1;31mAttributeError\u001b[0m: 'str' object has no attribute 'apply'"
     ]
    }
   ],
   "source": [
    "for x in df[\"tarih_saat\"].index:\n",
    "    df[\"ay\"][x]=df[\"ay\"][x].apply(lambda x: pd.Period(x, freq='M'))"
   ]
  },
  {
   "cell_type": "code",
   "execution_count": 130,
   "metadata": {},
   "outputs": [],
   "source": [
    "df[\"ay\"]=df[\"ay\"].apply(lambda x: pd.Period(x, freq='M'))"
   ]
  },
  {
   "cell_type": "code",
   "execution_count": 132,
   "metadata": {},
   "outputs": [
    {
     "name": "stdout",
     "output_type": "stream",
     "text": [
      "<class 'pandas.core.frame.DataFrame'>\n",
      "RangeIndex: 886722 entries, 0 to 886721\n",
      "Data columns (total 5 columns):\n",
      " #   Column        Non-Null Count   Dtype         \n",
      "---  ------        --------------   -----         \n",
      " 0   tarih_saat    886722 non-null  datetime64[ns]\n",
      " 1   hat_no        886722 non-null  int64         \n",
      " 2   alt_hat_no    886722 non-null  int64         \n",
      " 3   binis_sayisi  886722 non-null  int64         \n",
      " 4   ay            886722 non-null  period[M]     \n",
      "dtypes: datetime64[ns](1), int64(3), period[M](1)\n",
      "memory usage: 33.8 MB\n"
     ]
    }
   ],
   "source": [
    "df.info()"
   ]
  },
  {
   "cell_type": "code",
   "execution_count": 75,
   "metadata": {},
   "outputs": [
    {
     "ename": "AttributeError",
     "evalue": "'str' object has no attribute 'apply'",
     "output_type": "error",
     "traceback": [
      "\u001b[1;31m---------------------------------------------------------------------------\u001b[0m",
      "\u001b[1;31mAttributeError\u001b[0m                            Traceback (most recent call last)",
      "Cell \u001b[1;32mIn[75], line 2\u001b[0m\n\u001b[0;32m      1\u001b[0m y\u001b[39m=\u001b[39m\u001b[39m\"\u001b[39m\u001b[39m2023-01\u001b[39m\u001b[39m\"\u001b[39m\n\u001b[1;32m----> 2\u001b[0m y\u001b[39m=\u001b[39my\u001b[39m.\u001b[39;49mapply(\u001b[39mlambda\u001b[39;00m x: pd\u001b[39m.\u001b[39mPeriod(x, freq\u001b[39m=\u001b[39m\u001b[39m'\u001b[39m\u001b[39mM\u001b[39m\u001b[39m'\u001b[39m))\n",
      "\u001b[1;31mAttributeError\u001b[0m: 'str' object has no attribute 'apply'"
     ]
    }
   ],
   "source": [
    "y=\"2023-01\"\n",
    "y=y.apply(lambda x: pd.Period(x, freq='M'))"
   ]
  },
  {
   "cell_type": "code",
   "execution_count": 73,
   "metadata": {},
   "outputs": [],
   "source": [
    "veriler = pd.DataFrame({\n",
    "    'Ay': ['2023-01', '2023-02', '2023-03', '2023-04'],  # Örnek aylık veriler\n",
    "    'ToplamKisi': [100, 150, 200, 180]  # Örnek aylık toplam kişi sayıları\n",
    "})"
   ]
  },
  {
   "cell_type": "code",
   "execution_count": 74,
   "metadata": {},
   "outputs": [
    {
     "data": {
      "text/plain": [
       "str"
      ]
     },
     "execution_count": 74,
     "metadata": {},
     "output_type": "execute_result"
    }
   ],
   "source": [
    "type(veriler[\"Ay\"][0])"
   ]
  },
  {
   "cell_type": "code",
   "execution_count": 70,
   "metadata": {},
   "outputs": [
    {
     "name": "stdout",
     "output_type": "stream",
     "text": [
      "        Ay  ToplamKisi\n",
      "0  2023-01         100\n",
      "1  2023-02         150\n",
      "2  2023-03         200\n",
      "3  2023-04         180\n"
     ]
    }
   ],
   "source": [
    "veriler['Ay'] = veriler['Ay'].apply(lambda x: pd.Period(x, freq='M'))\n",
    "\n",
    "print(veriler)"
   ]
  },
  {
   "cell_type": "code",
   "execution_count": 71,
   "metadata": {},
   "outputs": [
    {
     "data": {
      "text/plain": [
       "pandas._libs.tslibs.period.Period"
      ]
     },
     "execution_count": 71,
     "metadata": {},
     "output_type": "execute_result"
    }
   ],
   "source": [
    "type(veriler[\"Ay\"][0])"
   ]
  },
  {
   "cell_type": "code",
   "execution_count": 72,
   "metadata": {},
   "outputs": [
    {
     "name": "stdout",
     "output_type": "stream",
     "text": [
      "<class 'pandas.core.frame.DataFrame'>\n",
      "RangeIndex: 4 entries, 0 to 3\n",
      "Data columns (total 2 columns):\n",
      " #   Column      Non-Null Count  Dtype    \n",
      "---  ------      --------------  -----    \n",
      " 0   Ay          4 non-null      period[M]\n",
      " 1   ToplamKisi  4 non-null      int64    \n",
      "dtypes: int64(1), period[M](1)\n",
      "memory usage: 196.0 bytes\n"
     ]
    }
   ],
   "source": [
    "veriler.info()"
   ]
  },
  {
   "cell_type": "code",
   "execution_count": null,
   "metadata": {},
   "outputs": [],
   "source": []
  }
 ],
 "metadata": {
  "kernelspec": {
   "display_name": "Python 3",
   "language": "python",
   "name": "python3"
  },
  "language_info": {
   "codemirror_mode": {
    "name": "ipython",
    "version": 3
   },
   "file_extension": ".py",
   "mimetype": "text/x-python",
   "name": "python",
   "nbconvert_exporter": "python",
   "pygments_lexer": "ipython3",
   "version": "3.11.3"
  },
  "orig_nbformat": 4
 },
 "nbformat": 4,
 "nbformat_minor": 2
}
