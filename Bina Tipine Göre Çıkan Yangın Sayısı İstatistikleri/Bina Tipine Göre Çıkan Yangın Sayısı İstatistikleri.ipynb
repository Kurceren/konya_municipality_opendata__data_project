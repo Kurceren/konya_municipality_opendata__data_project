{
 "cells": [
  {
   "cell_type": "code",
   "execution_count": 18,
   "metadata": {},
   "outputs": [],
   "source": [
    "import pandas as pd\n",
    "import numpy as np"
   ]
  },
  {
   "cell_type": "code",
   "execution_count": 19,
   "metadata": {},
   "outputs": [],
   "source": [
    "df17=pd.read_csv(\"143_202203_2017yanginsayisi.csv\",sep=\";\")\n",
    "df18=pd.read_csv(\"143_202203_2018yanginsayisi.csv\",sep=\";\")\n",
    "df19=pd.read_csv(\"143_202203_2019yanginsayisi.csv\",sep=\";\")\n",
    "df20=pd.read_csv(\"143_202203_2020yanginsayisi.csv\",sep=\";\")\n",
    "df21=pd.read_csv(\"143_202203_2021yanginsayisi.csv\",sep=\";\")"
   ]
  },
  {
   "cell_type": "code",
   "execution_count": 20,
   "metadata": {},
   "outputs": [],
   "source": [
    "column_names17 = df17.columns.tolist()\n",
    "column_names18 = df18.columns.tolist()\n",
    "column_names19 = df19.columns.tolist()\n",
    "column_names20 = df20.columns.tolist()\n",
    "column_names21 = df21.columns.tolist()\n",
    "\n",
    "hepsi=[column_names17,column_names18,column_names19,column_names20,column_names21]"
   ]
  },
  {
   "cell_type": "code",
   "execution_count": 21,
   "metadata": {},
   "outputs": [
    {
     "data": {
      "text/plain": [
       "[['ilceler', 'ahsap', 'karkas', 'beton', 'celik', 'diger', 'toplam'],\n",
       " ['ilceler', 'ahsap', 'karkas', 'beton', 'celik', 'diger', 'toplam'],\n",
       " ['ilceler', 'ahsap', 'karkas', 'beton', 'celik', 'diger', 'toplam'],\n",
       " ['ilceler', 'ahsap', 'karkas', 'beton', 'celik', 'diger', 'toplam'],\n",
       " ['ilceler', 'ahsap', 'karkas', 'beton', 'celik', 'diger', 'toplam']]"
      ]
     },
     "execution_count": 21,
     "metadata": {},
     "output_type": "execute_result"
    }
   ],
   "source": [
    "hepsi"
   ]
  },
  {
   "cell_type": "code",
   "execution_count": 22,
   "metadata": {},
   "outputs": [
    {
     "name": "stdout",
     "output_type": "stream",
     "text": [
      "aynı\n",
      "aynı\n",
      "aynı\n",
      "aynı\n",
      "aynı\n",
      "aynı\n"
     ]
    }
   ],
   "source": [
    "for x in range(6):\n",
    "    if column_names17[x]==column_names18[x] and column_names17[x]==column_names19[x]:\n",
    "\n",
    "        \n",
    "\n",
    "            if column_names17[x]==column_names20[x] and column_names17[x]==column_names21[x]:\n",
    "\n",
    "                \n",
    "                print(\"aynı\")\n",
    "            else:\n",
    "                    print(\"a\")\n",
    "        \n",
    "    else:\n",
    "        print(\"a\")"
   ]
  },
  {
   "cell_type": "code",
   "execution_count": 23,
   "metadata": {},
   "outputs": [
    {
     "data": {
      "text/html": [
       "<div>\n",
       "<style scoped>\n",
       "    .dataframe tbody tr th:only-of-type {\n",
       "        vertical-align: middle;\n",
       "    }\n",
       "\n",
       "    .dataframe tbody tr th {\n",
       "        vertical-align: top;\n",
       "    }\n",
       "\n",
       "    .dataframe thead th {\n",
       "        text-align: right;\n",
       "    }\n",
       "</style>\n",
       "<table border=\"1\" class=\"dataframe\">\n",
       "  <thead>\n",
       "    <tr style=\"text-align: right;\">\n",
       "      <th></th>\n",
       "      <th>ilceler</th>\n",
       "      <th>ahsap</th>\n",
       "      <th>karkas</th>\n",
       "      <th>beton</th>\n",
       "      <th>celik</th>\n",
       "      <th>diger</th>\n",
       "      <th>toplam</th>\n",
       "    </tr>\n",
       "  </thead>\n",
       "  <tbody>\n",
       "    <tr>\n",
       "      <th>0</th>\n",
       "      <td>SELÇUKLU</td>\n",
       "      <td>10</td>\n",
       "      <td>0</td>\n",
       "      <td>129</td>\n",
       "      <td>0</td>\n",
       "      <td>665</td>\n",
       "      <td>804</td>\n",
       "    </tr>\n",
       "    <tr>\n",
       "      <th>1</th>\n",
       "      <td>MERAM</td>\n",
       "      <td>75</td>\n",
       "      <td>0</td>\n",
       "      <td>99</td>\n",
       "      <td>2</td>\n",
       "      <td>341</td>\n",
       "      <td>517</td>\n",
       "    </tr>\n",
       "    <tr>\n",
       "      <th>2</th>\n",
       "      <td>KARATAY</td>\n",
       "      <td>109</td>\n",
       "      <td>0</td>\n",
       "      <td>79</td>\n",
       "      <td>1</td>\n",
       "      <td>421</td>\n",
       "      <td>610</td>\n",
       "    </tr>\n",
       "    <tr>\n",
       "      <th>3</th>\n",
       "      <td>SANCAK</td>\n",
       "      <td>0</td>\n",
       "      <td>0</td>\n",
       "      <td>0</td>\n",
       "      <td>0</td>\n",
       "      <td>0</td>\n",
       "      <td>0</td>\n",
       "    </tr>\n",
       "    <tr>\n",
       "      <th>4</th>\n",
       "      <td>AKÖREN</td>\n",
       "      <td>6</td>\n",
       "      <td>1</td>\n",
       "      <td>1</td>\n",
       "      <td>0</td>\n",
       "      <td>27</td>\n",
       "      <td>35</td>\n",
       "    </tr>\n",
       "    <tr>\n",
       "      <th>5</th>\n",
       "      <td>AKŞEHİR</td>\n",
       "      <td>57</td>\n",
       "      <td>20</td>\n",
       "      <td>21</td>\n",
       "      <td>0</td>\n",
       "      <td>430</td>\n",
       "      <td>528</td>\n",
       "    </tr>\n",
       "    <tr>\n",
       "      <th>6</th>\n",
       "      <td>ALTINEKİN</td>\n",
       "      <td>0</td>\n",
       "      <td>0</td>\n",
       "      <td>3</td>\n",
       "      <td>0</td>\n",
       "      <td>68</td>\n",
       "      <td>71</td>\n",
       "    </tr>\n",
       "    <tr>\n",
       "      <th>7</th>\n",
       "      <td>BEYŞEHİR</td>\n",
       "      <td>33</td>\n",
       "      <td>9</td>\n",
       "      <td>18</td>\n",
       "      <td>1</td>\n",
       "      <td>344</td>\n",
       "      <td>405</td>\n",
       "    </tr>\n",
       "    <tr>\n",
       "      <th>8</th>\n",
       "      <td>BOZKIR</td>\n",
       "      <td>2</td>\n",
       "      <td>1</td>\n",
       "      <td>7</td>\n",
       "      <td>0</td>\n",
       "      <td>31</td>\n",
       "      <td>41</td>\n",
       "    </tr>\n",
       "    <tr>\n",
       "      <th>9</th>\n",
       "      <td>CİHANBEYLİ</td>\n",
       "      <td>0</td>\n",
       "      <td>27</td>\n",
       "      <td>6</td>\n",
       "      <td>0</td>\n",
       "      <td>69</td>\n",
       "      <td>102</td>\n",
       "    </tr>\n",
       "    <tr>\n",
       "      <th>10</th>\n",
       "      <td>ÇELTİK</td>\n",
       "      <td>3</td>\n",
       "      <td>0</td>\n",
       "      <td>0</td>\n",
       "      <td>0</td>\n",
       "      <td>92</td>\n",
       "      <td>95</td>\n",
       "    </tr>\n",
       "    <tr>\n",
       "      <th>11</th>\n",
       "      <td>ÇUMRA</td>\n",
       "      <td>1</td>\n",
       "      <td>3</td>\n",
       "      <td>11</td>\n",
       "      <td>0</td>\n",
       "      <td>196</td>\n",
       "      <td>211</td>\n",
       "    </tr>\n",
       "    <tr>\n",
       "      <th>12</th>\n",
       "      <td>DERBENT</td>\n",
       "      <td>7</td>\n",
       "      <td>1</td>\n",
       "      <td>0</td>\n",
       "      <td>0</td>\n",
       "      <td>29</td>\n",
       "      <td>37</td>\n",
       "    </tr>\n",
       "    <tr>\n",
       "      <th>13</th>\n",
       "      <td>DEREBUCAK</td>\n",
       "      <td>0</td>\n",
       "      <td>0</td>\n",
       "      <td>1</td>\n",
       "      <td>0</td>\n",
       "      <td>13</td>\n",
       "      <td>14</td>\n",
       "    </tr>\n",
       "    <tr>\n",
       "      <th>14</th>\n",
       "      <td>DOĞANHİSAR</td>\n",
       "      <td>18</td>\n",
       "      <td>0</td>\n",
       "      <td>0</td>\n",
       "      <td>1</td>\n",
       "      <td>130</td>\n",
       "      <td>149</td>\n",
       "    </tr>\n",
       "    <tr>\n",
       "      <th>15</th>\n",
       "      <td>EMİRGAZİ</td>\n",
       "      <td>12</td>\n",
       "      <td>2</td>\n",
       "      <td>0</td>\n",
       "      <td>0</td>\n",
       "      <td>18</td>\n",
       "      <td>32</td>\n",
       "    </tr>\n",
       "    <tr>\n",
       "      <th>16</th>\n",
       "      <td>EREĞLİ</td>\n",
       "      <td>95</td>\n",
       "      <td>2</td>\n",
       "      <td>42</td>\n",
       "      <td>0</td>\n",
       "      <td>311</td>\n",
       "      <td>450</td>\n",
       "    </tr>\n",
       "    <tr>\n",
       "      <th>17</th>\n",
       "      <td>GÜNEYSINIR</td>\n",
       "      <td>6</td>\n",
       "      <td>4</td>\n",
       "      <td>5</td>\n",
       "      <td>1</td>\n",
       "      <td>30</td>\n",
       "      <td>46</td>\n",
       "    </tr>\n",
       "    <tr>\n",
       "      <th>18</th>\n",
       "      <td>HADİM</td>\n",
       "      <td>11</td>\n",
       "      <td>0</td>\n",
       "      <td>3</td>\n",
       "      <td>0</td>\n",
       "      <td>33</td>\n",
       "      <td>47</td>\n",
       "    </tr>\n",
       "    <tr>\n",
       "      <th>19</th>\n",
       "      <td>HÜYÜK</td>\n",
       "      <td>0</td>\n",
       "      <td>0</td>\n",
       "      <td>1</td>\n",
       "      <td>0</td>\n",
       "      <td>119</td>\n",
       "      <td>120</td>\n",
       "    </tr>\n",
       "    <tr>\n",
       "      <th>20</th>\n",
       "      <td>ILGIN</td>\n",
       "      <td>22</td>\n",
       "      <td>11</td>\n",
       "      <td>16</td>\n",
       "      <td>2</td>\n",
       "      <td>210</td>\n",
       "      <td>261</td>\n",
       "    </tr>\n",
       "    <tr>\n",
       "      <th>21</th>\n",
       "      <td>KADINHANI</td>\n",
       "      <td>45</td>\n",
       "      <td>2</td>\n",
       "      <td>2</td>\n",
       "      <td>1</td>\n",
       "      <td>197</td>\n",
       "      <td>247</td>\n",
       "    </tr>\n",
       "    <tr>\n",
       "      <th>22</th>\n",
       "      <td>KARAPINAR</td>\n",
       "      <td>4</td>\n",
       "      <td>3</td>\n",
       "      <td>10</td>\n",
       "      <td>0</td>\n",
       "      <td>155</td>\n",
       "      <td>172</td>\n",
       "    </tr>\n",
       "    <tr>\n",
       "      <th>23</th>\n",
       "      <td>KULU</td>\n",
       "      <td>0</td>\n",
       "      <td>0</td>\n",
       "      <td>37</td>\n",
       "      <td>0</td>\n",
       "      <td>203</td>\n",
       "      <td>240</td>\n",
       "    </tr>\n",
       "    <tr>\n",
       "      <th>24</th>\n",
       "      <td>SARAYÖNÜ</td>\n",
       "      <td>0</td>\n",
       "      <td>0</td>\n",
       "      <td>7</td>\n",
       "      <td>0</td>\n",
       "      <td>125</td>\n",
       "      <td>132</td>\n",
       "    </tr>\n",
       "    <tr>\n",
       "      <th>25</th>\n",
       "      <td>SEYDİŞEHİR</td>\n",
       "      <td>24</td>\n",
       "      <td>12</td>\n",
       "      <td>9</td>\n",
       "      <td>0</td>\n",
       "      <td>226</td>\n",
       "      <td>271</td>\n",
       "    </tr>\n",
       "    <tr>\n",
       "      <th>26</th>\n",
       "      <td>TAŞKENT</td>\n",
       "      <td>2</td>\n",
       "      <td>1</td>\n",
       "      <td>0</td>\n",
       "      <td>0</td>\n",
       "      <td>10</td>\n",
       "      <td>13</td>\n",
       "    </tr>\n",
       "    <tr>\n",
       "      <th>27</th>\n",
       "      <td>YALIHÜYÜK</td>\n",
       "      <td>12</td>\n",
       "      <td>1</td>\n",
       "      <td>3</td>\n",
       "      <td>0</td>\n",
       "      <td>39</td>\n",
       "      <td>55</td>\n",
       "    </tr>\n",
       "    <tr>\n",
       "      <th>28</th>\n",
       "      <td>YUNAK</td>\n",
       "      <td>0</td>\n",
       "      <td>1</td>\n",
       "      <td>2</td>\n",
       "      <td>0</td>\n",
       "      <td>140</td>\n",
       "      <td>143</td>\n",
       "    </tr>\n",
       "  </tbody>\n",
       "</table>\n",
       "</div>"
      ],
      "text/plain": [
       "       ilceler  ahsap  karkas  beton  celik  diger  toplam\n",
       "0     SELÇUKLU     10       0    129      0    665     804\n",
       "1        MERAM     75       0     99      2    341     517\n",
       "2      KARATAY    109       0     79      1    421     610\n",
       "3       SANCAK      0       0      0      0      0       0\n",
       "4       AKÖREN      6       1      1      0     27      35\n",
       "5      AKŞEHİR     57      20     21      0    430     528\n",
       "6    ALTINEKİN      0       0      3      0     68      71\n",
       "7     BEYŞEHİR     33       9     18      1    344     405\n",
       "8       BOZKIR      2       1      7      0     31      41\n",
       "9   CİHANBEYLİ      0      27      6      0     69     102\n",
       "10      ÇELTİK      3       0      0      0     92      95\n",
       "11       ÇUMRA      1       3     11      0    196     211\n",
       "12     DERBENT      7       1      0      0     29      37\n",
       "13   DEREBUCAK      0       0      1      0     13      14\n",
       "14  DOĞANHİSAR     18       0      0      1    130     149\n",
       "15    EMİRGAZİ     12       2      0      0     18      32\n",
       "16      EREĞLİ     95       2     42      0    311     450\n",
       "17  GÜNEYSINIR      6       4      5      1     30      46\n",
       "18       HADİM     11       0      3      0     33      47\n",
       "19       HÜYÜK      0       0      1      0    119     120\n",
       "20       ILGIN     22      11     16      2    210     261\n",
       "21   KADINHANI     45       2      2      1    197     247\n",
       "22   KARAPINAR      4       3     10      0    155     172\n",
       "23        KULU      0       0     37      0    203     240\n",
       "24    SARAYÖNÜ      0       0      7      0    125     132\n",
       "25  SEYDİŞEHİR     24      12      9      0    226     271\n",
       "26     TAŞKENT      2       1      0      0     10      13\n",
       "27   YALIHÜYÜK     12       1      3      0     39      55\n",
       "28       YUNAK      0       1      2      0    140     143"
      ]
     },
     "execution_count": 23,
     "metadata": {},
     "output_type": "execute_result"
    }
   ],
   "source": [
    "df17"
   ]
  },
  {
   "cell_type": "code",
   "execution_count": 24,
   "metadata": {},
   "outputs": [
    {
     "name": "stdout",
     "output_type": "stream",
     "text": [
      "aynı\n",
      "aynı\n",
      "aynı\n",
      "aynı\n",
      "aynı\n",
      "aynı\n",
      "aynı\n",
      "aynı\n",
      "aynı\n",
      "aynı\n",
      "aynı\n",
      "aynı\n",
      "aynı\n",
      "aynı\n",
      "aynı\n",
      "aynı\n",
      "aynı\n",
      "aynı\n",
      "aynı\n",
      "aynı\n",
      "aynı\n",
      "aynı\n",
      "aynı\n",
      "aynı\n",
      "aynı\n",
      "aynı\n",
      "aynı\n",
      "aynı\n",
      "aynı\n"
     ]
    }
   ],
   "source": [
    "\n",
    "for x in df17[\"ilceler\"].index:\n",
    "    if df17[\"ilceler\"][x]==df18[\"ilceler\"][x] and df17[\"ilceler\"][x]==df19[\"ilceler\"][x]:\n",
    "        if df17[\"ilceler\"][x]==df20[\"ilceler\"][x] and df17[\"ilceler\"][x]==df21[\"ilceler\"][x]:\n",
    "            print(\"aynı\")\n",
    "    else:\n",
    "        print(\"farklı\")"
   ]
  },
  {
   "cell_type": "code",
   "execution_count": 25,
   "metadata": {},
   "outputs": [
    {
     "data": {
      "text/plain": [
       "28"
      ]
     },
     "execution_count": 25,
     "metadata": {},
     "output_type": "execute_result"
    }
   ],
   "source": [
    "x"
   ]
  },
  {
   "cell_type": "code",
   "execution_count": 26,
   "metadata": {},
   "outputs": [
    {
     "name": "stderr",
     "output_type": "stream",
     "text": [
      "C:\\Users\\User\\AppData\\Local\\Packages\\PythonSoftwareFoundation.Python.3.11_qbz5n2kfra8p0\\LocalCache\\local-packages\\Python311\\site-packages\\numpy\\core\\fromnumeric.py:84: FutureWarning: Dropping of nuisance columns in DataFrame reductions (with 'numeric_only=None') is deprecated; in a future version this will raise TypeError.  Select only valid columns before calling the reduction.\n",
      "  return reduction(axis=axis, out=out, **passkwargs)\n"
     ]
    }
   ],
   "source": [
    "summ17= np.sum(df17, axis=1)\n",
    "summ17=summ17 - df17[\"toplam\"]\n",
    "\n",
    "\n",
    "summ18= np.sum(df18, axis=1)\n",
    "summ18=summ18 - df18[\"toplam\"]\n",
    "\n",
    "\n",
    "summ19= np.sum(df19, axis=1)\n",
    "summ19=summ19 - df19[\"toplam\"]\n",
    "\n",
    "\n",
    "summ20= np.sum(df20, axis=1)\n",
    "summ20=summ20 - df20[\"toplam\"]\n",
    "\n",
    "\n",
    "summ21= np.sum(df21, axis=1)\n",
    "summ21=summ21 - df21[\"toplam\"]"
   ]
  },
  {
   "cell_type": "code",
   "execution_count": 27,
   "metadata": {},
   "outputs": [
    {
     "name": "stdout",
     "output_type": "stream",
     "text": [
      "True\n"
     ]
    }
   ],
   "source": [
    "tplm=df17[\"toplam\"]\n",
    "iii=0\n",
    "rr=0\n",
    "for x in tplm.index:\n",
    "    if summ17[x]!=tplm[x]:\n",
    "        print(\"a\")\n",
    "    else:\n",
    "        iii=1\n",
    "        rr+=1\n",
    "if iii==1:\n",
    "    print(\"True\")"
   ]
  },
  {
   "cell_type": "code",
   "execution_count": 28,
   "metadata": {},
   "outputs": [
    {
     "data": {
      "text/plain": [
       "28"
      ]
     },
     "execution_count": 28,
     "metadata": {},
     "output_type": "execute_result"
    }
   ],
   "source": [
    "x"
   ]
  },
  {
   "cell_type": "code",
   "execution_count": 29,
   "metadata": {},
   "outputs": [
    {
     "name": "stdout",
     "output_type": "stream",
     "text": [
      "True\n"
     ]
    }
   ],
   "source": [
    "tplm=df18[\"toplam\"]\n",
    "iii=0\n",
    "for x in tplm.index:\n",
    "    if summ18[x]!=tplm[x]:\n",
    "        print(\"a\")\n",
    "    else:\n",
    "        iii=1\n",
    "\n",
    "if iii==1:\n",
    "    print(\"True\")"
   ]
  },
  {
   "cell_type": "code",
   "execution_count": 30,
   "metadata": {},
   "outputs": [
    {
     "name": "stdout",
     "output_type": "stream",
     "text": [
      "True\n"
     ]
    }
   ],
   "source": [
    "tplm=df19[\"toplam\"]\n",
    "iii=0\n",
    "for x in tplm.index:\n",
    "    if summ19[x]!=tplm[x]:\n",
    "        print(\"a\")\n",
    "    else:\n",
    "        iii=1\n",
    "\n",
    "if iii==1:\n",
    "    print(\"True\")"
   ]
  },
  {
   "cell_type": "code",
   "execution_count": 31,
   "metadata": {},
   "outputs": [
    {
     "name": "stdout",
     "output_type": "stream",
     "text": [
      "True\n"
     ]
    }
   ],
   "source": [
    "tplm=df20[\"toplam\"]\n",
    "iii=0\n",
    "for x in tplm.index:\n",
    "    if summ20[x]!=tplm[x]:\n",
    "        print(\"a\")\n",
    "    else:\n",
    "        iii=1\n",
    "\n",
    "if iii==1:\n",
    "    print(\"True\")"
   ]
  },
  {
   "cell_type": "code",
   "execution_count": 32,
   "metadata": {},
   "outputs": [
    {
     "name": "stdout",
     "output_type": "stream",
     "text": [
      "True\n"
     ]
    }
   ],
   "source": [
    "tplm=df21[\"toplam\"]\n",
    "iii=0\n",
    "for x in tplm.index:\n",
    "    if summ21[x]!=tplm[x]:\n",
    "        print(\"a\")\n",
    "    else:\n",
    "        iii=1\n",
    "\n",
    "if iii==1:\n",
    "    print(\"True\")"
   ]
  },
  {
   "cell_type": "code",
   "execution_count": 38,
   "metadata": {},
   "outputs": [
    {
     "name": "stdout",
     "output_type": "stream",
     "text": [
      "<class 'pandas.core.frame.DataFrame'>\n",
      "RangeIndex: 29 entries, 0 to 28\n",
      "Data columns (total 7 columns):\n",
      " #   Column   Non-Null Count  Dtype \n",
      "---  ------   --------------  ----- \n",
      " 0   ilceler  29 non-null     object\n",
      " 1   ahsap    29 non-null     int64 \n",
      " 2   karkas   29 non-null     int64 \n",
      " 3   beton    29 non-null     int64 \n",
      " 4   celik    29 non-null     int64 \n",
      " 5   diger    29 non-null     int64 \n",
      " 6   toplam   29 non-null     int64 \n",
      "dtypes: int64(6), object(1)\n",
      "memory usage: 1.7+ KB\n"
     ]
    }
   ],
   "source": [
    "df21.info()"
   ]
  },
  {
   "cell_type": "code",
   "execution_count": 43,
   "metadata": {},
   "outputs": [
    {
     "data": {
      "text/plain": [
       "str"
      ]
     },
     "execution_count": 43,
     "metadata": {},
     "output_type": "execute_result"
    }
   ],
   "source": [
    "type(df21[\"ilceler\"][0])"
   ]
  },
  {
   "cell_type": "code",
   "execution_count": 34,
   "metadata": {},
   "outputs": [],
   "source": [
    "df17.to_csv(\"bina_tipine_gore_cikan_yangin_sayisi_istatistikleri_2017.csv\",header=True ,index=False)\n",
    "df17.to_excel(\"bina_tipine_gore_cikan_yangin_sayisi_istatistikleri_2017.xlsx\",header=True ,index=False)\n",
    "\n",
    "df18.to_csv(\"bina_tipine_gore_cikan_yangin_sayisi_istatistikleri_2018.csv\",header=True ,index=False)\n",
    "df18.to_excel(\"bina_tipine_gore_cikan_yangin_sayisi_istatistikleri_2018.xlsx\",header=True ,index=False)\n",
    "\n",
    "df19.to_csv(\"bina_tipine_gore_cikan_yangin_sayisi_istatistikleri_2019.csv\",header=True ,index=False)\n",
    "df19.to_excel(\"bina_tipine_gore_cikan_yangin_sayisi_istatistikleri_2019.xlsx\",header=True ,index=False)\n",
    "\n",
    "df20.to_csv(\"bina_tipine_gore_cikan_yangin_sayisi_istatistikleri_2020.csv\",header=True ,index=False)\n",
    "df20.to_excel(\"bina_tipine_gore_cikan_yangin_sayisi_istatistikleri_2020.xlsx\",header=True ,index=False)\n",
    "\n",
    "df21.to_csv(\"bina_tipine_gore_cikan_yangin_sayisi_istatistikleri_2021.csv\",header=True ,index=False)\n",
    "df21.to_excel(\"bina_tipine_gore_cikan_yangin_sayisi_istatistikleri_2021.xlsx\",header=True ,index=False)"
   ]
  }
 ],
 "metadata": {
  "kernelspec": {
   "display_name": "Python 3",
   "language": "python",
   "name": "python3"
  },
  "language_info": {
   "codemirror_mode": {
    "name": "ipython",
    "version": 3
   },
   "file_extension": ".py",
   "mimetype": "text/x-python",
   "name": "python",
   "nbconvert_exporter": "python",
   "pygments_lexer": "ipython3",
   "version": "3.11.3"
  },
  "orig_nbformat": 4
 },
 "nbformat": 4,
 "nbformat_minor": 2
}
